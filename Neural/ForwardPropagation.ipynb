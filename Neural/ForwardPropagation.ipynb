{
 "cells": [
  {
   "cell_type": "code",
   "execution_count": 1,
   "metadata": {
    "collapsed": true
   },
   "outputs": [],
   "source": [
    "import numpy as np\n",
    "from matplotlib import pyplot as pp"
   ]
  },
  {
   "cell_type": "code",
   "execution_count": 41,
   "metadata": {
    "collapsed": true
   },
   "outputs": [],
   "source": [
    "class SingleLayerNN(object) :\n",
    "    def __init__(self,Y) :\n",
    "        self.inputLayer=2\n",
    "        self.hiddenLayerOne=3\n",
    "        self.hiddenLayerTwo=3\n",
    "        self.outputLayer=1\n",
    "        self.W1=np.random.randn(self.inputLayer,self.hiddenLayerOne)\n",
    "        self.W2=np.random.randn(self.hiddenLayerOne,self.hiddenLayerTwo)\n",
    "        self.W3=np.random.randn(self.hiddenLayerTwo,self.outputLayer)\n",
    "        self.y=np.array(Y)\n",
    "        \n",
    "    def sigmoid(self,z) :\n",
    "        return 1.0/(1.0+ np.exp(-z))\n",
    "    \n",
    "    def forward_propagation(self,X) :\n",
    "        self.z2=np.dot(X,self.W1)\n",
    "        self.a2=self.sigmoid(self.z2)\n",
    "        self.z3=np.dot(self.a2,self.W2)\n",
    "        self.a3=self.sigmoid(self.z3)\n",
    "        self.z4=np.dot(self.a3,self.W3)\n",
    "        self.yHat=self.sigmoid(self.z4)\n",
    "        return self.yHat,self.cost_function(self.y,self.yHat)\n",
    "    \n",
    "    def cost_function(self,y,yHat) :\n",
    "        #print y.shape,yHat.shape\n",
    "        #return np.multiply((y-yHat),(y-yHat))\n",
    "        return np.dot((y-np.transpose(yHat)),np.transpose((y-np.transpose(yHat))))"
   ]
  },
  {
   "cell_type": "code",
   "execution_count": 53,
   "metadata": {
    "collapsed": false
   },
   "outputs": [
    {
     "name": "stdout",
     "output_type": "stream",
     "text": [
      "[[ 0.68926699]\n",
      " [ 0.6993265 ]\n",
      " [ 0.69510679]]\n",
      "Error :  0.0734254098323\n"
     ]
    }
   ],
   "source": [
    "X = np.array(([3,5], [5,1], [10,2]), dtype=float)\n",
    "Y=[0.75,0.82,0.93]\n",
    "firstNN=SingleLayerNN(Y)\n",
    "X,Y=firstNN.forward_propagation(X)\n",
    "print X\n",
    "print \"Error : \",float(Y)"
   ]
  },
  {
   "cell_type": "code",
   "execution_count": null,
   "metadata": {
    "collapsed": false
   },
   "outputs": [],
   "source": []
  },
  {
   "cell_type": "code",
   "execution_count": null,
   "metadata": {
    "collapsed": true
   },
   "outputs": [],
   "source": []
  }
 ],
 "metadata": {
  "kernelspec": {
   "display_name": "Python 2",
   "language": "python",
   "name": "python2"
  },
  "language_info": {
   "codemirror_mode": {
    "name": "ipython",
    "version": 2
   },
   "file_extension": ".py",
   "mimetype": "text/x-python",
   "name": "python",
   "nbconvert_exporter": "python",
   "pygments_lexer": "ipython2",
   "version": "2.7.11"
  }
 },
 "nbformat": 4,
 "nbformat_minor": 0
}
