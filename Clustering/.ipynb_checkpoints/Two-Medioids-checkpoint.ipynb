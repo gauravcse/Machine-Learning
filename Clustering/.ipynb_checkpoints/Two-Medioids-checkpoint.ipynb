{
 "cells": [
  {
   "cell_type": "code",
   "execution_count": 1,
   "metadata": {
    "collapsed": true
   },
   "outputs": [],
   "source": [
    "import pandas as pd\n",
    "import numpy as np\n",
    "import matplotlib.pyplot as plt\n",
    "from math import sqrt"
   ]
  },
  {
   "cell_type": "code",
   "execution_count": 2,
   "metadata": {
    "collapsed": true
   },
   "outputs": [],
   "source": [
    "class Dataset(object) :\n",
    "    def __init__(self,filen) :\n",
    "        self.filename = filen\n",
    "        self.data = pd.read_csv(self.filename)\n",
    "        self.datam = self.data.as_matrix()\n",
    "        self.x = self.datam[:,[1]] \n",
    "        self.y = self.datam[:,[4]]\n",
    "    def plot(self) :\n",
    "        %matplotlib inline\n",
    "        plt.scatter(self.x,self.y)\n",
    "        plt.show()"
   ]
  },
  {
   "cell_type": "code",
   "execution_count": 3,
   "metadata": {
    "collapsed": false
   },
   "outputs": [
    {
     "data": {
      "image/png": "[encoded data removed]",
      "text/plain": [
       "<matplotlib.figure.Figure at 0xba91ba8>"
      ]
     },
     "metadata": {},
     "output_type": "display_data"
    }
   ],
   "source": [
    "# x = Age  y = Income\n",
    "datas = Dataset(\"bank-data.csv\")\n",
    "datas.plot()"
   ]
  },
  {
   "cell_type": "code",
   "execution_count": null,
   "metadata": {
    "collapsed": true
   },
   "outputs": [],
   "source": [
    "class KMedioids(object) :\n",
    "    def __init__(self,x,y,k=2) :\n",
    "        self.k = k\n",
    "        self.x = x\n",
    "        self.y = y\n",
    "        self.length = len(x)\n",
    "    def compute_distance(self,x1,y1,x2,y2) :\n",
    "        return sqrt((x1-x2)**2 + (y1 - y2)**2)\n",
    "    def algorithm(self) :\n",
    "        self.first_x,self.first_y = 33,17500.0\n",
    "        self.second_x,self.second_y = 60,32000.0\n",
    "        self.first_cluster = list()\n",
    "        self.second_cluster = list()\n",
    "        for idx in xrange(500) :\n",
    "            del self.first_cluster[:]\n",
    "            del self.second_cluster[:]\n",
    "            for i in xrange(self.length) :\n",
    "                distance1 = self.compute_distance(float(self.x[i]),float(self.y[i]),self.first_x,self.first_y)\n",
    "                distance2 = self.compute_distance(float(self.x[i]),float(self.y[i]),self.second_x,self.second_y)\n",
    "                if distance1 > distance2 :\n",
    "                    self.first_cluster.append(i)\n",
    "                else :\n",
    "                    self.second_cluster.append(i)\n",
    "            xlist = list()\n",
    "            ylist = list()\n",
    "            for i in  range(len(self.first_cluster)) :\n",
    "                xlist.append(float(self.x[self.first_cluster[i]]))\n",
    "                ylist.append(float(self.y[self.first_cluster[i]]))\n",
    "            xsort = np.sort(np.array(xlist))\n",
    "            ysort = np.sort(np.array(ylist))\n",
    "            if (len(xsort) % 2 == 0) :\n",
    "                self.first_x = xsort[int(len(xsort)/2)]\n",
    "            else :\n",
    "                self.first_x = xsort[int((len(xsort)-1)/2)]\n",
    "            if (len(xsort) % 2 == 0) :\n",
    "                self.first_y = ysort[int(len(ysort)/2)]\n",
    "            else :\n",
    "                self.first_y = ysort[int((len(ysort)-1)/2)]\n",
    "            del xlist[:]\n",
    "            del ylist[:]\n",
    "            for i in  range(len(self.second_cluster)) :\n",
    "                xlist.append(float(datas.x[self.second_cluster[i]]))\n",
    "                ylist.append(float(datas.y[self.second_cluster[i]]))\n",
    "            self.second_x = np.mean(np.array(xlist))\n",
    "            self.second_y = np.mean(np.array(ylist))\n",
    "            del xlist[:]\n",
    "            del ylist[:]\n",
    "        return np.array(self.first_cluster),np.array(self.second_cluster)"
   ]
  }
 ],
 "metadata": {
  "kernelspec": {
   "display_name": "Python 2",
   "language": "python",
   "name": "python2"
  },
  "language_info": {
   "codemirror_mode": {
    "name": "ipython",
    "version": 2
   },
   "file_extension": ".py",
   "mimetype": "text/x-python",
   "name": "python",
   "nbconvert_exporter": "python",
   "pygments_lexer": "ipython2",
   "version": "2.7.11"
  }
 },
 "nbformat": 4,
 "nbformat_minor": 0
}
