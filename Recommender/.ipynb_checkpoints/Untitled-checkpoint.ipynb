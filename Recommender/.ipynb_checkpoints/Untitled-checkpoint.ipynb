{
 "cells": [
  {
   "cell_type": "code",
   "execution_count": 2,
   "metadata": {
    "collapsed": false
   },
   "outputs": [],
   "source": [
    "from pandas import read_csv\n",
    "data=read_csv('song_data.csv')"
   ]
  },
  {
   "cell_type": "code",
   "execution_count": 3,
   "metadata": {
    "collapsed": false
   },
   "outputs": [],
   "source": [
    "import numpy as np\n",
    "data_as_np=data.as_matrix()\n",
    "#Conversion of Each Column into a Different Numpy Array\n",
    "user_id=data_as_np[:,[0]]\n",
    "song_id=data_as_np[:,[1]]\n",
    "listened=data_as_np[:,[2]]\n",
    "artist=data_as_np[:,[3]]\n",
    "song_title=data_as_np[:,[4]]"
   ]
  },
  {
   "cell_type": "code",
   "execution_count": null,
   "metadata": {
    "collapsed": false
   },
   "outputs": [],
   "source": [
    "unique_users=np.empty(shape=(1,0),dtype=str)\n",
    "for user in user_id: \n",
    "    user=str(user)\n",
    "    if user not in unique_users :\n",
    "        np.append(unique_users,user)\n",
    "print unique_users"
   ]
  },
  {
   "cell_type": "code",
   "execution_count": null,
   "metadata": {
    "collapsed": true
   },
   "outputs": [],
   "source": []
  }
 ],
 "metadata": {
  "kernelspec": {
   "display_name": "Python 2",
   "language": "python",
   "name": "python2"
  },
  "language_info": {
   "codemirror_mode": {
    "name": "ipython",
    "version": 2
   },
   "file_extension": ".py",
   "mimetype": "text/x-python",
   "name": "python",
   "nbconvert_exporter": "python",
   "pygments_lexer": "ipython2",
   "version": "2.7.11"
  }
 },
 "nbformat": 4,
 "nbformat_minor": 0
}
