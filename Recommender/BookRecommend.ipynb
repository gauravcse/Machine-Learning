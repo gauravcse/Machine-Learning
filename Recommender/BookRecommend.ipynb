{
 "cells": [
  {
   "cell_type": "code",
   "execution_count": 63,
   "metadata": {
    "collapsed": true
   },
   "outputs": [],
   "source": [
    "#import pandas"
   ]
  },
  {
   "cell_type": "code",
   "execution_count": 64,
   "metadata": {
    "collapsed": false
   },
   "outputs": [],
   "source": [
    "#book_data=pandas.read_csv('BX-Book-Ratings.csv')\n",
    "#print book_data\n"
   ]
  },
  {
   "cell_type": "code",
   "execution_count": 56,
   "metadata": {
    "collapsed": false
   },
   "outputs": [],
   "source": [
    "import numpy as np\n",
    "npdata=book_data.as_matrix()\n",
    "data_first_column=npdata[:,[0]]\n",
    "final_data=data_first_column[9563:]\n",
    "#print final_data"
   ]
  },
  {
   "cell_type": "code",
   "execution_count": null,
   "metadata": {
    "collapsed": false
   },
   "outputs": [],
   "source": [
    "'''WE ARE NOT YET USING THE DATA'''"
   ]
  },
  {
   "cell_type": "code",
   "execution_count": 58,
   "metadata": {
    "collapsed": true
   },
   "outputs": [],
   "source": [
    "#Original : Original Matrix with entry 0 meaning unfilled entries to be predicted\n",
    "#UserFeature :  Features of the User \n",
    "#BookFeature : Features of the Books\n",
    "#K : Number of latent Features\n",
    "#alpha : Learning Rate\n",
    "#iterations :  Number of iterations for convergence\n",
    "import numpy as np\n",
    "def matrix_factor(Original,UserFeature,BookFeature,K,alpha,iterations) :\n",
    "    for iteration in range(iterations):\n",
    "        for i in range(len(Original)) :\n",
    "            for j in range(len(Original[i])) :\n",
    "                if Original[i][j] > 0 :\n",
    "                    eij=Original[i][j] - np.dot(UserFeature[i,:],BookFeature[:,j])\n",
    "                    for k in range(K) :\n",
    "                        UserFeature[i][k]=UserFeature[i][k]+(2*alpha*BookFeature[k][j]*eij)\n",
    "                        BookFeature[k][j]=BookFeature[k][j]+(2*alpha*UserFeature[i][k]*eij)\n",
    "    return np.dot(UserFeature,BookFeature)\n",
    "    "
   ]
  },
  {
   "cell_type": "code",
   "execution_count": 61,
   "metadata": {
    "collapsed": false
   },
   "outputs": [
    {
     "name": "stdout",
     "output_type": "stream",
     "text": [
      "[[ 5.          3.          4.57443141  1.          3.10763696]\n",
      " [ 4.          2.09085135  3.70208396  1.          2.49954071]\n",
      " [ 1.          1.          4.52279936  5.          2.95375098]\n",
      " [ 1.          0.20359763  3.62313837  4.          2.17036527]\n",
      " [ 3.00062293  1.00000001  5.          4.          3.1632631 ]\n",
      " [ 1.65842817  1.34784259  2.1394683   1.03669878  1.45538905]]\n"
     ]
    }
   ],
   "source": [
    "A=[[5,3,0,0,1],[4,2,1,0,0],[3,0,0,5,2],[0,0,0,2,3],[1,0,0,4,5],[0,0,0,2,3]]\n",
    "A=np.array(R)\n",
    "B=np.random.rand(6,4)\n",
    "C=np.random.rand(4,5)\n",
    "Result=matrix_factor(A,B,C,4,0.001,5000)\n",
    "print Result"
   ]
  },
  {
   "cell_type": "code",
   "execution_count": null,
   "metadata": {
    "collapsed": true
   },
   "outputs": [],
   "source": []
  }
 ],
 "metadata": {
  "kernelspec": {
   "display_name": "Python 2",
   "language": "python",
   "name": "python2"
  },
  "language_info": {
   "codemirror_mode": {
    "name": "ipython",
    "version": 2
   },
   "file_extension": ".py",
   "mimetype": "text/x-python",
   "name": "python",
   "nbconvert_exporter": "python",
   "pygments_lexer": "ipython2",
   "version": "2.7.11"
  }
 },
 "nbformat": 4,
 "nbformat_minor": 0
}
