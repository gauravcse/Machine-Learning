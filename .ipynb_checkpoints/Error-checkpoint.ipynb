{
 "cells": [
  {
   "cell_type": "code",
   "execution_count": 1,
   "metadata": {
    "collapsed": true
   },
   "outputs": [],
   "source": [
    "from random import randint,seed\n",
    "from time import time\n",
    "import scipy as sp\n",
    "import matplotlib.pyplot as mp"
   ]
  },
  {
   "cell_type": "code",
   "execution_count": null,
   "metadata": {
    "collapsed": true
   },
   "outputs": [],
   "source": [
    "seedtime=time.time()\n",
    "seed(seedtime)\n",
    "f=open(\"data.txt\",'w')\n",
    "for i in range(0,100) :\n",
    "    a=randint(0,10)\n",
    "    b=randint(99,999)\n",
    "    string=str(a)+\"\\t\"+str(b)+\"\\n\"\n",
    "    f.write(string)\n",
    "f.close()"
   ]
  }
 ],
 "metadata": {
  "kernelspec": {
   "display_name": "Python 2",
   "language": "python",
   "name": "python2"
  },
  "language_info": {
   "codemirror_mode": {
    "name": "ipython",
    "version": 2
   },
   "file_extension": ".py",
   "mimetype": "text/x-python",
   "name": "python",
   "nbconvert_exporter": "python",
   "pygments_lexer": "ipython2",
   "version": "2.7.11"
  }
 },
 "nbformat": 4,
 "nbformat_minor": 0
}
