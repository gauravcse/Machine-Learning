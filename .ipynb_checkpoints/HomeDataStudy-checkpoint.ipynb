{
 "cells": [
  {
   "cell_type": "code",
   "execution_count": 8,
   "metadata": {
    "collapsed": false
   },
   "outputs": [],
   "source": [
    "import pandas as pd\n",
    "import numpy as np\n",
    "import matplotlib.pyplot as mp\n",
    "from sklearn.cross_validation import train_test_split\n",
    "from sklearn import linear_model"
   ]
  },
  {
   "cell_type": "code",
   "execution_count": 9,
   "metadata": {
    "collapsed": false
   },
   "outputs": [],
   "source": [
    "mp.style.use('ggplot')\n",
    "data=pd.read_csv('home_data.csv')"
   ]
  },
  {
   "cell_type": "code",
   "execution_count": 38,
   "metadata": {
    "collapsed": false
   },
   "outputs": [],
   "source": [
    "training_data,test_data=pd.DataFrame(),pd.DataFrame()\n",
    "training_data,test_data=train_test_split(data,test_size=0.2)\n",
    "train_sqft=training_data.sqft_living\n",
    "train_price=training_data.price\n",
    "#regression=np.polyfit(train_sqft,train_price,1)\n",
    "#print regression"
   ]
  },
  {
   "cell_type": "code",
   "execution_count": 48,
   "metadata": {
    "collapsed": false
   },
   "outputs": [
    {
     "name": "stdout",
     "output_type": "stream",
     "text": [
      "('Coefficients: \\n', array([[ 282.29317252]]))\n"
     ]
    },
    {
     "data": {
      "text/plain": [
       "\"mp.scatter(x_test,y_test,color='black')\\nmp.plot(x_test, reg.predict(x_test),color='blue',linewidth=3) \\nmp.xlim(xmin=0)\\nmp.ylim(ymin=0)\\nmp.show()\""
      ]
     },
     "execution_count": 48,
     "metadata": {},
     "output_type": "execute_result"
    }
   ],
   "source": [
    "sqft=training_data.as_matrix(columns=[training_data.columns[5]])\n",
    "price=training_data.as_matrix(columns=[training_data.columns[2]])\n",
    "x_test=test_data.as_matrix(columns=[test_data.columns[5]])\n",
    "y_test=test_data.as_matrix(columns=[test_data.columns[2]])\n",
    "reg=linear_model.LinearRegression()\n",
    "reg.fit(sqft,price)\n",
    "print('Coefficients: \\n', reg.coef_)\n",
    "'''mp.scatter(x_test,y_test,color='black')\n",
    "mp.plot(x_test, reg.predict(x_test),color='blue',linewidth=3) \n",
    "mp.xlim(xmin=0)\n",
    "mp.ylim(ymin=0)\n",
    "mp.show()'''"
   ]
  },
  {
   "cell_type": "code",
   "execution_count": 49,
   "metadata": {
    "collapsed": false
   },
   "outputs": [
    {
     "name": "stdout",
     "output_type": "stream",
     "text": [
      "537054.151053\n"
     ]
    }
   ],
   "source": [
    "def rmse(predictions,actual) :\n",
    "    "
   ]
  },
  {
   "cell_type": "code",
   "execution_count": null,
   "metadata": {
    "collapsed": true
   },
   "outputs": [],
   "source": []
  }
 ],
 "metadata": {
  "kernelspec": {
   "display_name": "Python 2",
   "language": "python",
   "name": "python2"
  },
  "language_info": {
   "codemirror_mode": {
    "name": "ipython",
    "version": 2
   },
   "file_extension": ".py",
   "mimetype": "text/x-python",
   "name": "python",
   "nbconvert_exporter": "python",
   "pygments_lexer": "ipython2",
   "version": "2.7.11"
  }
 },
 "nbformat": 4,
 "nbformat_minor": 0
}
