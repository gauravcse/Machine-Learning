{
 "cells": [
  {
   "cell_type": "code",
   "execution_count": 1,
   "metadata": {
    "collapsed": true
   },
   "outputs": [],
   "source": [
    "from random import randint,seed\n",
    "from time import time\n",
    "import scipy as sp\n",
    "import matplotlib.pyplot as mp"
   ]
  },
  {
   "cell_type": "code",
   "execution_count": 4,
   "metadata": {
    "collapsed": false
   },
   "outputs": [],
   "source": [
    "seedtime=time()\n",
    "seed(seedtime)\n",
    "f=open(\"data.txt\",'w')\n",
    "for i in range(0,100) :\n",
    "    a=randint(0,10)\n",
    "    b=randint(99,999)\n",
    "    string=str(a)+\"\\t\"+str(b)+\"\\n\"\n",
    "    f.write(string)\n",
    "f.close()"
   ]
  },
  {
   "cell_type": "code",
   "execution_count": 5,
   "metadata": {
    "collapsed": true
   },
   "outputs": [],
   "source": [
    "data=sp.genfromtxt(\"data.txt\",delimiter=\"\\t\")\n",
    "x=data[:,0]\n",
    "y=data[:,1]"
   ]
  },
  {
   "cell_type": "code",
   "execution_count": 20,
   "metadata": {
    "collapsed": false
   },
   "outputs": [
    {
     "name": "stdout",
     "output_type": "stream",
     "text": [
      "[   5.15007016  541.21263659]\n",
      " \n",
      "5.15 x + 541.2\n"
     ]
    }
   ],
   "source": [
    "fp1,a,b,c,d=sp.polyfit(x,y,1,full=True)\n",
    "def error(f1,x,y) :\n",
    "    return sp.sum((f1(x)-y)**2)\n",
    "f1=sp.poly1d(fp1)\n",
    "print fp1\n",
    "print f1\n",
    "#for i in range(100) :\n",
    "   # print error(f1,x,y)"
   ]
  },
  {
   "cell_type": "code",
   "execution_count": 34,
   "metadata": {
    "collapsed": false
   },
   "outputs": [],
   "source": [
    "mp.scatter(x,y)\n",
    "fx=sp.linspace(0,x[-9],100)\n",
    "mp.plot(fx,f1(fx),linewidth=3)\n",
    "mp.show()"
   ]
  },
  {
   "cell_type": "code",
   "execution_count": null,
   "metadata": {
    "collapsed": true
   },
   "outputs": [],
   "source": []
  }
 ],
 "metadata": {
  "kernelspec": {
   "display_name": "Python 2",
   "language": "python",
   "name": "python2"
  },
  "language_info": {
   "codemirror_mode": {
    "name": "ipython",
    "version": 2
   },
   "file_extension": ".py",
   "mimetype": "text/x-python",
   "name": "python",
   "nbconvert_exporter": "python",
   "pygments_lexer": "ipython2",
   "version": "2.7.11"
  }
 },
 "nbformat": 4,
 "nbformat_minor": 0
}
