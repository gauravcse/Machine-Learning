{
 "cells": [
  {
   "cell_type": "code",
   "execution_count": 40,
   "metadata": {
    "collapsed": true
   },
   "outputs": [],
   "source": [
    "from sklearn import linear_model\n",
    "from matplotlib.pyplot import plot,xticks,yticks,scatter,show\n",
    "import numpy as np\n",
    "import scipy as sp"
   ]
  },
  {
   "cell_type": "code",
   "execution_count": 42,
   "metadata": {
    "collapsed": false
   },
   "outputs": [
    {
     "name": "stdout",
     "output_type": "stream",
     "text": [
      "('Coefficients: \\n', array([[ 0.99827266]]))\n"
     ]
    }
   ],
   "source": [
    "data=sp.genfromtxt(\"slr12.tsv\",delimiter=\"\\t\")\n",
    "x_train=data[:,0]\n",
    "y_train=data[:,1]\n",
    "x,y=list(),list()\n",
    "for item in x_train :\n",
    "    temp=list()\n",
    "    temp.append(item)\n",
    "    x.append(temp)\n",
    "for item in y_train :\n",
    "    temp=list()\n",
    "    temp.append(item)\n",
    "    y.append(temp)\n",
    "reg=linear_model.LinearRegression()\n",
    "reg.fit(x,y)\n",
    "print('Coefficients: \\n', reg.coef_)\n",
    "scatter(x,y)\n",
    "plt.plot(x, reg.predict(d), color='blue',\n",
    "         linewidth=3)\n",
    "show()"
   ]
  },
  {
   "cell_type": "code",
   "execution_count": null,
   "metadata": {
    "collapsed": true
   },
   "outputs": [],
   "source": []
  }
 ],
 "metadata": {
  "kernelspec": {
   "display_name": "Python 2",
   "language": "python",
   "name": "python2"
  },
  "language_info": {
   "codemirror_mode": {
    "name": "ipython",
    "version": 2
   },
   "file_extension": ".py",
   "mimetype": "text/x-python",
   "name": "python",
   "nbconvert_exporter": "python",
   "pygments_lexer": "ipython2",
   "version": "2.7.11"
  }
 },
 "nbformat": 4,
 "nbformat_minor": 0
}
