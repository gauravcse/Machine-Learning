{
 "cells": [
  {
   "cell_type": "code",
   "execution_count": 1,
   "metadata": {
    "collapsed": true
   },
   "outputs": [],
   "source": [
    "#Multiple Word Analyzer by Word Count and Weight"
   ]
  },
  {
   "cell_type": "code",
   "execution_count": 52,
   "metadata": {
    "collapsed": false
   },
   "outputs": [],
   "source": [
    "#READ THE DATA FILE\n",
    "from pandas import read_csv\n",
    "data=read_csv('amazon_baby.csv')"
   ]
  },
  {
   "cell_type": "code",
   "execution_count": 53,
   "metadata": {
    "collapsed": false
   },
   "outputs": [],
   "source": [
    "#LOAD THE DATA FILE COLUMN WISE INTO THE NUMPY ARRAYS\n",
    "import numpy as np\n",
    "import pandas\n",
    "data_as_matrix=data.as_matrix()\n",
    "name_column=data_as_matrix[:,[0]]\n",
    "feedback_column=data_as_matrix[:,[1]]\n",
    "rating_column=data_as_matrix[:,[2]]"
   ]
  },
  {
   "cell_type": "code",
   "execution_count": 54,
   "metadata": {
    "collapsed": false
   },
   "outputs": [],
   "source": [
    "def count_word_occurances(text,word_array) :\n",
    "    counter=[0]*11\n",
    "    try :\n",
    "        string_text=text[0].split(\" \")\n",
    "        for each_word in string_text :\n",
    "            if each_word.lower() in word_array :\n",
    "                counter[word_array.index(each_word)]+=1\n",
    "    except:\n",
    "        return counter\n",
    "    return counter"
   ]
  },
  {
   "cell_type": "code",
   "execution_count": 55,
   "metadata": {
    "collapsed": false
   },
   "outputs": [],
   "source": [
    "#WE WILL DO MULTIPLE WORDS ANALYSIS\n",
    "#THE WORDS ARE IN THE LIST\n",
    "import numpy as np\n",
    "x_axis,y_axis=rating_column.shape\n",
    "word_match = ['awesome', 'great', 'fantastic', 'amazing', 'love', 'horrible', 'bad', 'terrible', 'awful', 'wow', 'hate']\n",
    "y_axis=len(word_match)\n",
    "word_count=np.zeros(shape=(x_axis,y_axis))\n",
    "for index,review in enumerate(feedback_column) :\n",
    "    count_array=count_word_occurances(review,word_match)\n",
    "    for i in range(y_axis) :\n",
    "        word_count[index][i]=count_array[i]"
   ]
  },
  {
   "cell_type": "code",
   "execution_count": 56,
   "metadata": {
    "collapsed": false
   },
   "outputs": [],
   "source": [
    "def learn_weight(column) :\n",
    "    weight=0.0\n",
    "    count=0.0\n",
    "    try :\n",
    "        for index,element in enumerate(column) :\n",
    "            if int(element) is not 0 :\n",
    "                weight+=rating_column[index]\n",
    "                count+=1\n",
    "    except:\n",
    "        if(count is 0) :\n",
    "            return 0\n",
    "        else :\n",
    "            return float(weight/count)\n",
    "    if(count is 0) :\n",
    "        return 0\n",
    "    else :\n",
    "        return float(weight)/float(count)"
   ]
  },
  {
   "cell_type": "code",
   "execution_count": 57,
   "metadata": {
    "collapsed": false
   },
   "outputs": [],
   "source": [
    "word_weight_array=[0.0]*y_axis\n",
    "for index in range(y_axis) :\n",
    "    column=word_count[:,[index]]\n",
    "    weight=learn_weight(column)\n",
    "    word_weight_array[index]=weight"
   ]
  },
  {
   "cell_type": "code",
   "execution_count": 58,
   "metadata": {
    "collapsed": false
   },
   "outputs": [
    {
     "name": "stdout",
     "output_type": "stream",
     "text": [
      "[4.520666666666667, 4.381787914100216, 4.465333333333334, 4.574368568755847, 4.587147822228795, 2.7324185248713553, 3.453004622496148, 2.7643207855973815, 2.945337620578778, 4.08, 3.266326530612245]\n",
      "4.12044831663\n"
     ]
    }
   ],
   "source": [
    "print word_weight_array\n",
    "average_value=rating_column.mean()\n",
    "print average_value"
   ]
  },
  {
   "cell_type": "code",
   "execution_count": 80,
   "metadata": {
    "collapsed": false
   },
   "outputs": [],
   "source": [
    "#TEST DATA SPLIT TO SELECT ROWS RANDOMLY\n",
    "test_data=np.array_split(data,10)\n",
    "def average_weight(feedback):\n",
    "    feedback=feedback.split(\" \")\n",
    "    compute=0.0\n",
    "    count=0\n",
    "    try :\n",
    "        for word in feedback :\n",
    "            if word.lower() in word_match :\n",
    "                compute+=word_weight_array[word_match.index(word)]\n",
    "                count+=1\n",
    "    except :\n",
    "        if count is 0 :\n",
    "            return average_value\n",
    "        else :\n",
    "            return compute/float(count)\n",
    "    if count is 0 :\n",
    "        return average_value\n",
    "    else :\n",
    "        return compute/float(count)"
   ]
  },
  {
   "cell_type": "code",
   "execution_count": 81,
   "metadata": {
    "collapsed": true
   },
   "outputs": [],
   "source": [
    "def calculate_error(actual_score,predicted_score) :\n",
    "    return (float(actual_score)-predicted_score)**2"
   ]
  },
  {
   "cell_type": "code",
   "execution_count": 95,
   "metadata": {
    "collapsed": false
   },
   "outputs": [
    {
     "name": "stdout",
     "output_type": "stream",
     "text": [
      "ROOT MEAN SQUARED CUMULATIVE ERR0R IS  : 167.617952055\n"
     ]
    }
   ],
   "source": [
    "from random import randint,seed\n",
    "from datetime import datetime\n",
    "seed(datetime.now())\n",
    "squared_error=0.0\n",
    "file=open('predicted_data.txt','w')\n",
    "for row in range(10) :\n",
    "    data_list=test_data[row].as_matrix()\n",
    "    for index in range(1800) :\n",
    "        column=randint(0,18000)\n",
    "        score,feedback=int(data_list[column][2]),str(data_list[column][1])\n",
    "        computed_score=average_weight(feedback)\n",
    "        error=calculate_error(score,computed_score)\n",
    "        file.write('{0} : {1}  |  {2} : {3}\\n'.format(\"Actual Score\",str(score),\"Predicted Score\",str(computed_score)))\n",
    "        squared_error+=error\n",
    "print '{0} : {1}'.format(\"ROOT MEAN SQUARED CUMULATIVE ERR0R IS \",str(squared_error**0.5))"
   ]
  }
 ],
 "metadata": {
  "kernelspec": {
   "display_name": "Python 2",
   "language": "python",
   "name": "python2"
  },
  "language_info": {
   "codemirror_mode": {
    "name": "ipython",
    "version": 2
   },
   "file_extension": ".py",
   "mimetype": "text/x-python",
   "name": "python",
   "nbconvert_exporter": "python",
   "pygments_lexer": "ipython2",
   "version": "2.7.11"
  }
 },
 "nbformat": 4,
 "nbformat_minor": 0
}
