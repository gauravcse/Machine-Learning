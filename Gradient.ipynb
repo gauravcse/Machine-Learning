{
 "cells": [
  {
   "cell_type": "code",
   "execution_count": null,
   "metadata": {
    "collapsed": false
   },
   "outputs": [],
   "source": []
  },
  {
   "cell_type": "code",
   "execution_count": null,
   "metadata": {
    "collapsed": false
   },
   "outputs": [],
   "source": [
    "import numpy as np\n",
    "import scipy as sp\n",
    "\n",
    "def gradient_descent(theta1,theta2,alpha,error) :\n",
    "    old_theta1,old_theta2=0.0,0.0\n",
    "    while True :\n",
    "        old_theta1=theta1\n",
    "        old_theta2=theta2\n",
    "        temp1=theta1-(alpha*partial_wrt_theta1(theta1,theta2))\n",
    "        temp2=theta2-(alpha*partial_wrt_theta2(theta1,theta2))\n",
    "        theta1=temp1\n",
    "        theta2=temp2\n",
    "        if(abs(theta1-old_theta1)<error and abs(theta2-old_theta2)<error) :\n",
    "            the1=theta1\n",
    "            the2=theta2\n",
    "            return the1,the2\n",
    "            break\n",
    "def partial_wrt_theta1(theta1,theta2) :\n",
    "    s=0.0\n",
    "    data=sp.genfromtxt(\"data.txt\",delimiter=\" \")\n",
    "    X=data[:,0]\n",
    "    Y=data[:,1]\n",
    "    for i in range(len(X)) :\n",
    "        x=X[i]\n",
    "        y=Y[i]\n",
    "        s+=(theta1+(theta2)*x-y)\n",
    "    return s\n",
    "def partial_wrt_theta2(theta1,theta2) :\n",
    "    s=0.0\n",
    "    data=sp.genfromtxt(\"data.txt\",delimiter=\" \")\n",
    "    X=data[:,0]\n",
    "    Y=data[:,1]\n",
    "    for i in range(len(X)) :\n",
    "        x=X[i]\n",
    "        y=Y[i]\n",
    "        s+=((theta1+(theta2)*x-y)*x)\n",
    "    return s   "
   ]
  },
  {
   "cell_type": "code",
   "execution_count": null,
   "metadata": {
    "collapsed": false
   },
   "outputs": [],
   "source": [
    "def run():\n",
    "    data=sp.genfromtxt(\"data.txt\",delimiter=\" \")\n",
    "    X=data[:,0]\n",
    "    Y=data[:,1]\n",
    "    #Default Values of Theta 1 and Theta 2 is 0.0\n",
    "    the1,the2=0.0,0.0\n",
    "    error_margin=0.01\n",
    "    alp=0.01\n",
    "    the1,the2=gradient_descent(0.0,0.0,alp,error_margin)\n",
    "    print '{0}  {1}'.format(the1,the2)"
   ]
  },
  {
   "cell_type": "code",
   "execution_count": null,
   "metadata": {
    "collapsed": false
   },
   "outputs": [],
   "source": [
    "run()"
   ]
  },
  {
   "cell_type": "code",
   "execution_count": null,
   "metadata": {
    "collapsed": false
   },
   "outputs": [],
   "source": []
  },
  {
   "cell_type": "code",
   "execution_count": null,
   "metadata": {
    "collapsed": true
   },
   "outputs": [],
   "source": []
  },
  {
   "cell_type": "code",
   "execution_count": null,
   "metadata": {
    "collapsed": true
   },
   "outputs": [],
   "source": []
  }
 ],
 "metadata": {
  "kernelspec": {
   "display_name": "Python 2",
   "language": "python",
   "name": "python2"
  },
  "language_info": {
   "codemirror_mode": {
    "name": "ipython",
    "version": 2
   },
   "file_extension": ".py",
   "mimetype": "text/x-python",
   "name": "python",
   "nbconvert_exporter": "python",
   "pygments_lexer": "ipython2",
   "version": "2.7.11"
  }
 },
 "nbformat": 4,
 "nbformat_minor": 0
}
